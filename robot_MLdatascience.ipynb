{
  "nbformat": 4,
  "nbformat_minor": 0,
  "metadata": {
    "colab": {
      "name": "robot_MLdatascience.ipynb",
      "provenance": [],
      "collapsed_sections": [],
      "authorship_tag": "ABX9TyPtbWA/S1mliu7Hj2r6YfT2",
      "include_colab_link": true
    },
    "kernelspec": {
      "name": "python3",
      "display_name": "Python 3"
    }
  },
  "cells": [
    {
      "cell_type": "markdown",
      "metadata": {
        "id": "view-in-github",
        "colab_type": "text"
      },
      "source": [
        "<a href=\"https://colab.research.google.com/github/TharllesHCS/Trabalho1-POO/blob/master/robot_MLdatascience.ipynb\" target=\"_parent\"><img src=\"https://colab.research.google.com/assets/colab-badge.svg\" alt=\"Open In Colab\"/></a>"
      ]
    },
    {
      "cell_type": "code",
      "metadata": {
        "id": "TXf0LNNux9iM",
        "colab_type": "code",
        "colab": {}
      },
      "source": [
        "class point(object):\n",
        "  def __init__(self, x, y):\n",
        "    self.x = x\n",
        "    self.y = y\n",
        "  def __str__(self):\n",
        "    return '<{},{}>'.format(self.x,self.y)\n",
        "\n",
        "class reward(point):\n",
        "  def __init__(self,x,y,name):\n",
        "    super(reward,self).__init__(x,y)\n",
        "    self.name = name\n",
        "  def __str__(self):\n",
        "    return '<{},{}>: {}'.format(self.x,self.y,self.name)\n",
        "  def __repr__(self):\n",
        "    return '<Reward> {}'.format(self)\n",
        "    \n",
        "class Robo(point):\n",
        "\n",
        "  def move_up(self):\n",
        "    if self.y < 10 : self.y = self.y + 1\n",
        "\n",
        "  def move_down(self):\n",
        "    if self.y > 0 : self.y = self.y - 1\n",
        "\n",
        "  def move_left(self):\n",
        "    if self.x > 0 : self.x = self.x -1\n",
        "\n",
        "  def move_right(self):\n",
        "    if self.x < 10 : self.x =self.x +1\n",
        "\n",
        "def check_reward(robot,rewards):\n",
        "  for reward in rewards:\n",
        "    if reward.x == robot.x and  reward.y == robot.y:\n",
        "      print(\"Robot find reward: {}\".format(reward.name))\n",
        "\n"
      ],
      "execution_count": 9,
      "outputs": []
    },
    {
      "cell_type": "code",
      "metadata": {
        "id": "T43yz4P9zfdg",
        "colab_type": "code",
        "colab": {}
      },
      "source": [
        "import random\n",
        "r1 = reward(random.randint(0, 10), random.randint(0, 10), 'moeda')\n",
        "r2 = reward(random.randint(0, 10), random.randint(0, 10), 'gasolina')\n",
        "r3 = reward(random.randint(0, 10), random.randint(0, 10), 'arma')\n",
        "rewards = [r1, r2, r3]\n",
        "\n",
        "robot = Robo(random.randint(0,10),random.randint(0,10))\n",
        "rewards = [r1,r2,r3]\n",
        "check_reward(robot,rewards)"
      ],
      "execution_count": 20,
      "outputs": []
    },
    {
      "cell_type": "code",
      "metadata": {
        "id": "ak4v6OMS152x",
        "colab_type": "code",
        "colab": {
          "base_uri": "https://localhost:8080/",
          "height": 34
        },
        "outputId": "9565b964-67c1-4499-8ada-1017b8291cf8"
      },
      "source": [
        "rewards"
      ],
      "execution_count": 12,
      "outputs": [
        {
          "output_type": "execute_result",
          "data": {
            "text/plain": [
              "[<Reward> <1,2>: moeda, <Reward> <5,3>: gasolina]"
            ]
          },
          "metadata": {
            "tags": []
          },
          "execution_count": 12
        }
      ]
    },
    {
      "cell_type": "code",
      "metadata": {
        "id": "vSGBBAI566w9",
        "colab_type": "code",
        "colab": {
          "base_uri": "https://localhost:8080/",
          "height": 357
        },
        "outputId": "ff3bcd0b-3a33-44d6-949d-54d74523e540"
      },
      "source": [
        "for i in range(10):\n",
        "  moviment = input(\"Digite up,down,left ou right para movimentar o robozito\")\n",
        "  if moviment == 'up': robot.move_up()\n",
        "  elif moviment == 'down': robot.move_down()\n",
        "  elif moviment == 'left' : robot.move_left()\n",
        "  elif moviment == 'right' : robot.move_right() \n",
        "  else: \n",
        "    print(\"movimento invalido\")\n",
        "    continue\n",
        "  check_reward(robot,rewards)\n",
        "  print(robot)"
      ],
      "execution_count": 23,
      "outputs": [
        {
          "output_type": "stream",
          "text": [
            "Digite up,down,left ou right para movimentar o robozitoup\n",
            "<0,4>\n",
            "Digite up,down,left ou right para movimentar o robozitodown\n",
            "<0,3>\n",
            "Digite up,down,left ou right para movimentar o robozitoleft\n",
            "<0,3>\n",
            "Digite up,down,left ou right para movimentar o robozitoleft\n",
            "<0,3>\n",
            "Digite up,down,left ou right para movimentar o robozitoleft\n",
            "<0,3>\n",
            "Digite up,down,left ou right para movimentar o robozitoright\n",
            "<1,3>\n",
            "Digite up,down,left ou right para movimentar o robozitoright\n",
            "<2,3>\n",
            "Digite up,down,left ou right para movimentar o robozitoright\n",
            "<3,3>\n",
            "Digite up,down,left ou right para movimentar o robozitoright\n",
            "<4,3>\n",
            "Digite up,down,left ou right para movimentar o robozitoright\n",
            "<5,3>\n"
          ],
          "name": "stdout"
        }
      ]
    }
  ]
}